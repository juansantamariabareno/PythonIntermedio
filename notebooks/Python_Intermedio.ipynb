{
 "cells": [
  {
   "cell_type": "markdown",
   "metadata": {},
   "source": [
    "# Python Intermedio\n",
    "\n",
    "## ¿Qué es la documentación?\n",
    "\n",
    "Es lo que nos dice *como funciona* el lenguaje, de manera homónima, es como el manual de instrucciones de un producto\n",
    "\n",
    "Para conocer la documentación de python se peude acceder al siguiente [**enlace**](https://docs.python.org/3/)"
   ]
  },
  {
   "cell_type": "markdown",
   "metadata": {},
   "source": [
    "## PEP 8 -- Style Guide for Python Code 🎈[*aquí*](https://www.python.org/dev/peps/pep-0008/)\n",
    "\n",
    "Este es un documento que conforma toda la guia de estilos de python. Esta guía nos indica como funciona el lenguaje y como se debería escribir el código de manera correcta.\n",
    "Al dar click al enlace encontramos un documento que nos indica como deberiamos escribir en python, como por ejemplo formas para escribir comentarios, como nombrar las clases, formas de escribir código, entre otros.\n",
    "\n",
    "Algunas de las recomendaciones básicas de la guia son:\n",
    "\n",
    "> 1. Se prefieren los espacios como método de identación sobre la tabulación (4 espacios)\n",
    "> 2. Longitud maxima de 79 caracteres por línea \n",
    "    - En caso de tener comentarios o documentaciones, la longitud de la linea se debe limitar a 72 caracteres\n",
    "> 3. El codigo en las distribuciones core de Python debe ser siempre escrito en UTF-8 u no debe tener declaración de codificación\n",
    "> 4. Las importaciones deben ser usualmente en lineas separadas\n",
    "> ``` \n",
    "> # Correct:\n",
    "> import os\n",
    "> import sys\n",
    "> ```\n",
    "> ``` \n",
    "> # Wrong:\n",
    "> import sys, os\n",
    "> ```\n"
   ]
  },
  {
   "cell_type": "markdown",
   "metadata": {},
   "source": [
    "## ¿Qué es un entorno virtual?\n",
    "Es un entorno en el cual podemos independizar nuestro código python con los módulos que se requieran, es decir, puedo tener un python aislado para cada proyecto el cual va a cargar sus propios módulos\n",
    "\n",
    "### Creación de un entorno virtual\n",
    "Como primer paso creamos una carpeta dentro de nuestro directorio de trabajo en el cual no vamos a utilizar el python que tenemos instalado en nuestra computadora, en lugar de eso, crearemos un entorno virtual con un python que se ejecutara en esa carpeta en nuestra carpeta del repositorio\n",
    "\n",
    "![img1](./img/img1.png)\n",
    "\n",
    "Lo siguiente que vamos a hacer es crear el entorno virtual (para este caso uso windows, en linux es python3 el comando)\n",
    "```\n",
    "py -m venv venv\n",
    "```\n",
    "la sintaxis del código anterior es:\n",
    "* **py**: el ambiente de python dentro del terminal\n",
    "* **-m**: es el flag para cargar el módulo\n",
    "* **venv**: es el módulo para crear ambientes virtuales\n",
    "* **< nombre >**: es el nombre que tendra el ambiente virtual. Por conveccion se usa venv que significa *virtual environment*\n",
    "Esto va a crear una carpeta donde va a convivir un python donde vamos a poder instalar y actualizar los módulos a gusto sin tocar ni actualizar nuestro python local en la computadora. **Pero ojo**, con que el entorno virtual este creado no es suficiente, se debe ingresar y activar el entorno virtual para que nuestra consola no trabaje con el python de nuestra computadora.\n",
    "\n",
    ">```\n",
    ">C:\\Users\\juan.santamaria\\Documents\\Personales Juan Diego Santamaria\\Platzi\\Python Intermedio\\proyecto_ejemplo (main)\n",
    ">λ ls\n",
    ">venv/\n",
    ">C:\\Users\\juan.santamaria\\Documents\\Personales Juan Diego Santamaria\\Platzi\\Python Intermedio\\proyecto_ejemplo (main)\n",
    ">λ ls venv\\\n",
    ">Include/  Lib/  pyvenv.cfg  Scripts/\n",
    ">```\n",
    "\n",
    "Dentro de la carpeta Scripts se encuentra el comando para poder activar el entorno virtual. Para activar el comando depende del entorno:\n",
    "* Linux/Mac\n",
    "> En un sistema de Unix, la carpeta Scripts no existe, existe es la de bin\n",
    "```\n",
    "source venv/bin/activate\n",
    "``` \n",
    "* Windows\n",
    "```\n",
    "C:\\Users\\juan.santamaria\\Documents\\Personales Juan Diego Santamaria\\Platzi\\Python Intermedio\\proyecto_ejemplo (main)\n",
    "λ .\\venv\\Scripts\\activate\n",
    "C:\\Users\\juan.santamaria\\Documents\\Personales Juan Diego Santamaria\\Platzi\\Python Intermedio\\proyecto_ejemplo (main)\n",
    "(venv) λ\n",
    "```\n",
    "> Si ejecutamos este comando se puede observar que a parte del *(main)* que indica el branch de nuestro repositorio de git, aparece un *(venv)* que nos indica que estamos ejecutando nuestro entorno virtual para la carpeta que tiene de nombre **venv**. Con esto utilizamos un python clonado que solo funciona en este proyecto.\n",
    "\n",
    "Para salir del entorno virtual, es suficiente con el comando ```deactivate```. Sin embargo, para ingresar al entorno virtual es un poco engorroso estar escribiendo el comando constantemente o estarnos aprendiendo el comando, con lo cual se recomienda crear un ***alias*** \n",
    "* En Windows el alias se almacena en el Cmder\n",
    "```\n",
    "alias avenv=.\\venv\\Scripts\\activate\n",
    "```\n",
    "* En Linux\\Mac el comando no se almacena por completo, para hacerlo es necesario modificar el archivo ```.bashrc```\n",
    "```\n",
    "sudo nano ~/.bashrc\n",
    "alias avenv = \"source venv/bin/activate\"\n",
    "source ~/.bashrc\n",
    "```\n",
    "De esa forma persistirá siempre, ya que el alias se guarda dentro del archivo de configuración de la terminal 😊\n",
    "\n"
   ]
  },
  {
   "cell_type": "markdown",
   "metadata": {},
   "source": [
    "## Instalación de dependencias con PIP (Package Installer for Python)\n",
    "\n",
    "Dentro de python tenemos un monton de módulos, es decir, un monton de código escrito por otras personas que podemos aprovechar. Hay unos módulos que vienen de fabrica con python y otros que no, para instalar los que no vienen por defecto es donde usamos **pip**\n",
    "\n",
    "**Módulos populares**:\n",
    "* Requests (WebScraping)\n",
    "* BeautifulSoup4 (WebScraping)\n",
    "* Pandas (Ciencia de datos)\n",
    "* Numpy (Ciencia de datos)\n",
    "* Pytest (Testing)\n",
    "\n",
    "Dentro de nuestro entorno virtual ejecutamos los comandos. Con ```pip freeze``` listamos los módulos que tenemos instalados. En el momento de ejecutarlo en el entorno virtual, saldra vacio dado que no hemos instalado nada"
   ]
  },
  {
   "cell_type": "code",
   "execution_count": null,
   "metadata": {},
   "outputs": [],
   "source": [
    "pip freeze"
   ]
  },
  {
   "cell_type": "markdown",
   "metadata": {},
   "source": [
    "![img2](./img/img2.png)"
   ]
  },
  {
   "cell_type": "code",
   "execution_count": null,
   "metadata": {},
   "outputs": [],
   "source": [
    "pip install pandas"
   ]
  },
  {
   "cell_type": "markdown",
   "metadata": {},
   "source": [
    "![img3](./img/img3.png)\n",
    "\n",
    "**Pero ojo**, que sucede si queremos compartir nuestro proyecto con otro colaborador, y esta persona va a necesitar tener python con exactamente las mismas librerias y los mismos módulos que hemos cargado, en este caso es donde entra un archivo importante en los entornos virtuales mediante los archivos ```requirements.txt```\n",
    "\n",
    "```\n",
    "pip freeze > requirements.txt\n",
    "```\n",
    "![img4](./img/img4.png)\n",
    "\n",
    "Una vez que la persona tiene ese archivo, lo unico que necesita realizar para instalar las dependencias es ejecutar el siguiente comando\n",
    "\n",
    "```\n",
    "pip install -r requirements.txt\n",
    "```\n",
    "\n",
    "\n",
    "\n"
   ]
  },
  {
   "cell_type": "markdown",
   "metadata": {},
   "source": [
    "## Listas y diccionarios anidados\n",
    "\n",
    "Para este caso ya no se trabajará en la carpeta *proyecto_ejemplo* dado que solo era un ejemplo para ver como crear entornos virtuales. Ahora, se trabajara sobre la carpeta principal en donde se creara un entorno virtual ```py -m venv venv```\n",
    "\n",
    "Las listas son una manera de organizar objetos al igual que los diccionarios, solo que los diccionarios tienen una estructura de llave -> valor, sin embargo, las listas pueden almacenar diccionarios y los diccionarios pueden almacenar listas dado que cada uno es un objeto en python.\n",
    "\n",
    "El codigo de este trabajo se encuentra en el archivo ```lists_and_dicts.py```"
   ]
  },
  {
   "cell_type": "code",
   "execution_count": 8,
   "metadata": {},
   "outputs": [
    {
     "name": "stdout",
     "output_type": "stream",
     "text": [
      "natural_nums - [1, 2, 3, 4, 5]\n",
      "integer_nums - [-1, -2, 0, 1, 2]\n",
      "floating_nums - [1.1, 4.5, 6.43]\n"
     ]
    }
   ],
   "source": [
    "def run():\n",
    "    my_list = [1, \"Hello\", True, 4.5]\n",
    "    my_dict = {\"firstname\": \"Juan\", \"lastname\": \"Santamaria\"}\n",
    "\n",
    "    # Esta sera una lista que contenga diccionarios (lista de diccionarios)\n",
    "    super_list = [\n",
    "        {\"firstname\": \"Juan\", \"lastname\": \"Santamaria\"},\n",
    "        {\"firstname\": \"Diego\", \"lastname\": \"Bareño\"},\n",
    "        {\"firstname\": \"Julieth\", \"lastname\": \"Garnica\"},\n",
    "        {\"firstname\": \"Marylight\", \"lastname\": \"Patiño\"},\n",
    "        {\"firstname\": \"Juan\", \"lastname\": \"Perez\"}\n",
    "    ]\n",
    "\n",
    "    # Diccionario que contiene listas (diccionario de listas)\n",
    "    super_dict = {\n",
    "        \"natural_nums\": [1,2,3,4,5],\n",
    "        \"integer_nums\": [-1,-2,0,1,2],\n",
    "        \"floating_nums\": [1.1,4.5,6.43]\n",
    "    }\n",
    "\n",
    "    # Hacemos un ciclo for para recorrer el diccionario\n",
    "    # Recorremos las llaves y valores en un mismo ciclo con .items()\n",
    "    for key, value in super_dict.items():\n",
    "        print(key, \"-\", value)\n",
    "\n",
    "# entrypoint que ejecuta la función al cargar el codigo de python\n",
    "if __name__ == '__main__':\n",
    "    run()"
   ]
  },
  {
   "cell_type": "markdown",
   "metadata": {},
   "source": [
    "Al ejecutar el código en consola, observamos que nos imprime los valores del super_dict. Si queremos imprimir los valores de la super_list, el codigo cambia de la siguiente manera:"
   ]
  },
  {
   "cell_type": "code",
   "execution_count": 12,
   "metadata": {},
   "outputs": [
    {
     "name": "stdout",
     "output_type": "stream",
     "text": [
      "firstname - Juan\n",
      "lastname - Santamaria\n",
      "firstname - Diego\n",
      "lastname - Bareño\n",
      "firstname - Julieth\n",
      "lastname - Garnica\n",
      "firstname - Marylight\n",
      "lastname - Patiño\n",
      "firstname - Juan\n",
      "lastname - Perez\n"
     ]
    }
   ],
   "source": [
    "def run():\n",
    "    my_list = [1, \"Hello\", True, 4.5]\n",
    "    my_dict = {\"firstname\": \"Juan\", \"lastname\": \"Santamaria\"}\n",
    "\n",
    "    # Esta sera una lista que contenga diccionarios (lista de diccionarios)\n",
    "    super_list = [\n",
    "        {\"firstname\": \"Juan\", \"lastname\": \"Santamaria\"},\n",
    "        {\"firstname\": \"Diego\", \"lastname\": \"Bareño\"},\n",
    "        {\"firstname\": \"Julieth\", \"lastname\": \"Garnica\"},\n",
    "        {\"firstname\": \"Marylight\", \"lastname\": \"Patiño\"},\n",
    "        {\"firstname\": \"Juan\", \"lastname\": \"Perez\"}\n",
    "    ]\n",
    "\n",
    "    # Diccionario que contiene listas (diccionario de listas)\n",
    "    super_dict = {\n",
    "        \"natural_nums\": [1,2,3,4,5],\n",
    "        \"integer_nums\": [-1,-2,0,1,2],\n",
    "        \"floating_nums\": [1.1,4.5,6.43]\n",
    "    }\n",
    "\n",
    "    # Hacemos un ciclo for para recorrer la lista\n",
    "    for values_list in super_list:\n",
    "        # Ahora que ya recorremos la lista, imprimimos los valores del diccionario\n",
    "        for key, value in values_list.items():\n",
    "            print(key, \"-\", value)\n",
    "\n",
    "# entrypoint que ejecuta la función al cargar el codigo de python\n",
    "if __name__ == '__main__':\n",
    "    run()"
   ]
  },
  {
   "cell_type": "markdown",
   "metadata": {},
   "source": [
    "El código completo para imprimir ambas cosas queda de esta forma:"
   ]
  },
  {
   "cell_type": "code",
   "execution_count": 15,
   "metadata": {},
   "outputs": [
    {
     "name": "stdout",
     "output_type": "stream",
     "text": [
      " -- Imprimiendo listas anidadas en el diccionario -- \n",
      "natural_nums - [1, 2, 3, 4, 5]\n",
      "integer_nums - [-1, -2, 0, 1, 2]\n",
      "floating_nums - [1.1, 4.5, 6.43]\n",
      " -- Imprimiendo valores de diccionarios anidados en las listas\n",
      "Diccionario -- \n",
      "firstname - Juan\n",
      "lastname - Santamaria\n",
      "Diccionario -- \n",
      "firstname - Diego\n",
      "lastname - Bareño\n",
      "Diccionario -- \n",
      "firstname - Julieth\n",
      "lastname - Garnica\n",
      "Diccionario -- \n",
      "firstname - Marylight\n",
      "lastname - Patiño\n",
      "Diccionario -- \n",
      "firstname - Juan\n",
      "lastname - Perez\n"
     ]
    }
   ],
   "source": [
    "def run():\n",
    "    my_list = [1, \"Hello\", True, 4.5]\n",
    "    my_dict = {\"firstname\": \"Juan\", \"lastname\": \"Santamaria\"}\n",
    "\n",
    "    # Esta sera una lista que contenga diccionarios (lista de diccionarios)\n",
    "    super_list = [\n",
    "        {\"firstname\": \"Juan\", \"lastname\": \"Santamaria\"},\n",
    "        {\"firstname\": \"Diego\", \"lastname\": \"Bareño\"},\n",
    "        {\"firstname\": \"Julieth\", \"lastname\": \"Garnica\"},\n",
    "        {\"firstname\": \"Marylight\", \"lastname\": \"Patiño\"},\n",
    "        {\"firstname\": \"Juan\", \"lastname\": \"Perez\"}\n",
    "    ]\n",
    "\n",
    "    # Diccionario que contiene listas (diccionario de listas)\n",
    "    super_dict = {\n",
    "        \"natural_nums\": [1,2,3,4,5],\n",
    "        \"integer_nums\": [-1,-2,0,1,2],\n",
    "        \"floating_nums\": [1.1,4.5,6.43]\n",
    "    }\n",
    "\n",
    "    # Hacemos un ciclo for para recorrer el diccionario\n",
    "    # Recorremos las llaves y valores en un mismo ciclo con .items()\n",
    "    print(\" -- Imprimiendo listas anidadas en el diccionario -- \")\n",
    "    for key, value in super_dict.items():\n",
    "        print(key, \"-\", value)\n",
    "\n",
    "    # Hacemos un ciclo for para recorrer la lista\n",
    "    print(\" -- Imprimiendo valores de diccionarios anidados en las listas\")\n",
    "    for values_list in super_list:\n",
    "        # Ahora que ya recorremos la lista, imprimimos los valores del diccionario\n",
    "        print(\"Diccionario -- \")\n",
    "        for key, value in values_list.items():\n",
    "            print(key, \"-\", value)\n",
    "\n",
    "# entrypoint que ejecuta la función al cargar el codigo de python\n",
    "if __name__ == '__main__':\n",
    "    run()"
   ]
  },
  {
   "cell_type": "markdown",
   "metadata": {},
   "source": [
    "## List comprehensions\n",
    "Ejemplo de como obtener una lista con los 100 primeros números naturales al cuadrado"
   ]
  },
  {
   "cell_type": "code",
   "execution_count": 18,
   "metadata": {},
   "outputs": [
    {
     "name": "stdout",
     "output_type": "stream",
     "text": [
      "[1, 4, 9, 16, 25, 36, 49, 64, 81, 100, 121, 144, 169, 196, 225, 256, 289, 324, 361, 400, 441, 484, 529, 576, 625, 676, 729, 784, 841, 900, 961, 1024, 1089, 1156, 1225, 1296, 1369, 1444, 1521, 1600, 1681, 1764, 1849, 1936, 2025, 2116, 2209, 2304, 2401, 2500, 2601, 2704, 2809, 2916, 3025, 3136, 3249, 3364, 3481, 3600, 3721, 3844, 3969, 4096, 4225, 4356, 4489, 4624, 4761, 4900, 5041, 5184, 5329, 5476, 5625, 5776, 5929, 6084, 6241, 6400, 6561, 6724, 6889, 7056, 7225, 7396, 7569, 7744, 7921, 8100, 8281, 8464, 8649, 8836, 9025, 9216, 9409, 9604, 9801, 10000]\n"
     ]
    }
   ],
   "source": [
    "def run():\n",
    "    cuadrados = []\n",
    "    for x in range(1,101):\n",
    "        cuadrados.append(x**2)\n",
    "    print(cuadrados)\n",
    "    \n",
    "# Creo mi entrypoint\n",
    "if __name__ == \"__main__\":\n",
    "    run()"
   ]
  },
  {
   "cell_type": "markdown",
   "metadata": {},
   "source": [
    "Ahora, resulta que solo quiero guardar el cuadrado de los números que no sean divisibles entre 3"
   ]
  },
  {
   "cell_type": "code",
   "execution_count": 19,
   "metadata": {},
   "outputs": [
    {
     "name": "stdout",
     "output_type": "stream",
     "text": [
      "[1, 4, 16, 25, 49, 64, 100, 121, 169, 196, 256, 289, 361, 400, 484, 529, 625, 676, 784, 841, 961, 1024, 1156, 1225, 1369, 1444, 1600, 1681, 1849, 1936, 2116, 2209, 2401, 2500, 2704, 2809, 3025, 3136, 3364, 3481, 3721, 3844, 4096, 4225, 4489, 4624, 4900, 5041, 5329, 5476, 5776, 5929, 6241, 6400, 6724, 6889, 7225, 7396, 7744, 7921, 8281, 8464, 8836, 9025, 9409, 9604, 10000]\n"
     ]
    }
   ],
   "source": [
    "def run():\n",
    "    cuadrados = []\n",
    "    for x in range(1,101):\n",
    "        if x%3 != 0:\n",
    "            cuadrados.append(x**2)\n",
    "    print(cuadrados)\n",
    "    \n",
    "# Creo mi entrypoint\n",
    "if __name__ == \"__main__\":\n",
    "    run()"
   ]
  },
  {
   "cell_type": "markdown",
   "metadata": {},
   "source": [
    "Eso que acabamos de hacer se puede resolver en una sola linea de codigo con el concepto de las *list comprehensions*"
   ]
  },
  {
   "cell_type": "code",
   "execution_count": 1,
   "metadata": {},
   "outputs": [
    {
     "name": "stdout",
     "output_type": "stream",
     "text": [
      "[1, 4, 16, 25, 49, 64, 100, 121, 169, 196, 256, 289, 361, 400, 484, 529, 625, 676, 784, 841, 961, 1024, 1156, 1225, 1369, 1444, 1600, 1681, 1849, 1936, 2116, 2209, 2401, 2500, 2704, 2809, 3025, 3136, 3364, 3481, 3721, 3844, 4096, 4225, 4489, 4624, 4900, 5041, 5329, 5476, 5776, 5929, 6241, 6400, 6724, 6889, 7225, 7396, 7744, 7921, 8281, 8464, 8836, 9025, 9409, 9604, 10000]\n"
     ]
    }
   ],
   "source": [
    "def run():\n",
    "    # Usando list comprehensions\n",
    "    cuadrados = [x**2 for x in range(1, 101) if x % 3 != 0]\n",
    "    print(cuadrados)\n",
    "    \n",
    "# Creo mi entrypoint\n",
    "if __name__ == \"__main__\":\n",
    "    run()"
   ]
  },
  {
   "cell_type": "markdown",
   "metadata": {},
   "source": [
    "Un *list comprehensions* se lee de la siguiente manera\n",
    "```\n",
    "[element ***for*** element ***in*** iterable ***if*** condition]\n",
    "```\n",
    "![img5](./img/img5.png)\n",
    "\n",
    "> **En mi nueva lista voy a guardar para cada elemento en el iterable, ese elemento, solo si se cumple la condición**\n",
    "\n",
    "![img6](./img/img6.png)\n",
    "\n",
    "![gif1](./img/gif1.gif \"segment\")\n",
    "\n",
    "Para el caso del código de ejemplo se leeria: *para cada i en el rando de 1 a 101, voy a guardar esa i elevada al cuadrado, solo si esa i módulo 3 es distinto de cero*"
   ]
  },
  {
   "cell_type": "markdown",
   "metadata": {},
   "source": [
    "**Reto**: Crear, con un list comprehensions, una lista de todos los múltiplos de 4 que a la vez también son múltiplos de 6 y de 9, hasta 5 dígitos"
   ]
  },
  {
   "cell_type": "code",
   "execution_count": null,
   "metadata": {},
   "outputs": [],
   "source": [
    "def run():\n",
    "    ''' Notas para el reto\n",
    "        1. El rango de 5 dígitos va del 1 al 99999\n",
    "        2. Un número es múltiplo de otro si el módulo es igual a 0\n",
    "            Ej: 8 % 4 = 0 ya que 8 es múltiplo de 4\n",
    "        3. Hay una forma corta de solucionar el ejercicio y es usando el concepto matemático del minimo comun multiplo\n",
    "    '''\n",
    "    # Forma larga\n",
    "    # multiplos = [i for i in range(1,99999) if (i % 4 and i % 9 and i % 9) == 0]\n",
    "    # Forma corta\n",
    "    ''' En este caso queremos encontrar el mínimo común multiplo de 4, 6 y 9. Para encontrarlo, \n",
    "        recomiendo esta ruta (https://cuadernos.rubio.net/con-buena-letra/calcular-minimo-comun-multiplo-mcm-y-maximo-comun-divisor-mcd).\n",
    "        Luego de aplicar lo visto en esa ruta, llegarás a que el mcm de 4, 6 y 9 es el número 36 y se obtiene de la siguiente manera\n",
    "        9|3     4|2     6|2\n",
    "        3|3     2|2     3|3\n",
    "        1|      1|      1|\n",
    "        3^2     2^2     2x3\n",
    "        \n",
    "        El 3 y el 2 aparecen en comun en las 3 descomposiciones, donde el mayor exponente en cada uno es el elevado al cuadrado\n",
    "        MCM(4,6,9) = 3^2x2^2 = 9x4 = 36\n",
    "    '''\n",
    "    multiplos = [i for i in range(1,99999) if i % 36 == 0]\n",
    "    print(multiplos)\n",
    "    \n",
    "    \n",
    "# Creo mi entrypoint\n",
    "if __name__ == \"__main__\":\n",
    "    run()"
   ]
  },
  {
   "cell_type": "markdown",
   "metadata": {},
   "source": [
    "## Dictionaty comprehensions\n",
    "\n",
    "Lo mismo que se aplico a las listas, se puede aplicar a los diccionarios\n",
    "\n",
    "**Reto**: Crear un diccionario cuyas llaves sean los 100 primeros numeros naturales y cuyos valores sean ese mismo número elevado al cubo y no sean divisibles por 3"
   ]
  },
  {
   "cell_type": "code",
   "execution_count": 28,
   "metadata": {},
   "outputs": [
    {
     "name": "stdout",
     "output_type": "stream",
     "text": [
      "{1: 1, 2: 8, 4: 64, 5: 125, 7: 343, 8: 512, 10: 1000, 11: 1331, 13: 2197, 14: 2744, 16: 4096, 17: 4913, 19: 6859, 20: 8000, 22: 10648, 23: 12167, 25: 15625, 26: 17576, 28: 21952, 29: 24389, 31: 29791, 32: 32768, 34: 39304, 35: 42875, 37: 50653, 38: 54872, 40: 64000, 41: 68921, 43: 79507, 44: 85184, 46: 97336, 47: 103823, 49: 117649, 50: 125000, 52: 140608, 53: 148877, 55: 166375, 56: 175616, 58: 195112, 59: 205379, 61: 226981, 62: 238328, 64: 262144, 65: 274625, 67: 300763, 68: 314432, 70: 343000, 71: 357911, 73: 389017, 74: 405224, 76: 438976, 77: 456533, 79: 493039, 80: 512000, 82: 551368, 83: 571787, 85: 614125, 86: 636056, 88: 681472, 89: 704969, 91: 753571, 92: 778688, 94: 830584, 95: 857375, 97: 912673, 98: 941192, 100: 1000000}\n"
     ]
    }
   ],
   "source": [
    "def run():\n",
    "    diccionario = {i : i**3 for i in range (1,101) if i % 3 != 0}\n",
    "    print(diccionario)\n",
    "\n",
    "if __name__ == \"__main__\":\n",
    "    run()"
   ]
  },
  {
   "cell_type": "markdown",
   "metadata": {},
   "source": [
    "**Reto**: Crear, con un dictionary comprehension, un diccionario cuyas llaves sean los 1000 primeros números naturales y sus valores sean las raíces cuadradas"
   ]
  },
  {
   "cell_type": "code",
   "execution_count": null,
   "metadata": {},
   "outputs": [],
   "source": [
    "def run():\n",
    "    diccionario = {i : i**0.5 for i in range (1,1001)}\n",
    "    print(diccionario)\n",
    "\n",
    "if __name__ == \"__main__\":\n",
    "    run()"
   ]
  },
  {
   "cell_type": "markdown",
   "metadata": {},
   "source": [
    "## Funciones anónimas\n",
    "*Lectura recomendada*: 💻🖥📱📚 [**aquí**](https://docs.python.org/3/tutorial/controlflow.html?highlight=lambda#lambda-expressions)\n",
    "\n",
    "Una función es simplemente código que escribimos una vez y que ejecutamos luego en diferentes lugares de lo que estemos trabajando.\n",
    "\n",
    "Para crear una función se maneja la estructura ```def <nombre funcion>(<parámetros>):```\n",
    "\n",
    "Existe un concepto nuevo, hay una manera de escribir funciones sin nombre llamadas **funciones anónimas** o conocidas popularmente como *lambda functions* y su estructura es ```lambda argumentos: expresión```. En lugar de usar ```def``` usamos ```lambda``` y colocamos despues los argumentos. Las funciones lambda pueden tener los argumentos que necesitemos pero, una sola línea de código. En el caso de las funciones lambda, no necesitamos escribir la función de ```return``` ya que retorna automáticamente el valor de la expresión."
   ]
  },
  {
   "cell_type": "code",
   "execution_count": 34,
   "metadata": {},
   "outputs": [
    {
     "name": "stdout",
     "output_type": "stream",
     "text": [
      "True\n"
     ]
    }
   ],
   "source": [
    "# Ejemplo palíndromo con función normal\n",
    "# def palindrome(string):\n",
    "#     return string == string[::-1]\n",
    "\n",
    "# Escrito en lambda functions seria de este tipo\n",
    "palindrome = lambda string: string == string[::-1]\n",
    "\n",
    "print(palindrome('ana'))"
   ]
  }
 ],
 "metadata": {
  "interpreter": {
   "hash": "eaa3212344781f5fac54ccdf1d42044dc63c8aa37317015039c9cf3d651f265c"
  },
  "kernelspec": {
   "display_name": "Python 3.10.1 64-bit",
   "language": "python",
   "name": "python3"
  },
  "language_info": {
   "codemirror_mode": {
    "name": "ipython",
    "version": 3
   },
   "file_extension": ".py",
   "mimetype": "text/x-python",
   "name": "python",
   "nbconvert_exporter": "python",
   "pygments_lexer": "ipython3",
   "version": "3.10.1"
  },
  "orig_nbformat": 4
 },
 "nbformat": 4,
 "nbformat_minor": 2
}
