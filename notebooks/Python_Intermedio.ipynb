{
 "cells": [
  {
   "cell_type": "markdown",
   "metadata": {},
   "source": [
    "# Python Intermedio\n",
    "\n",
    "## ¿Qué es la documentación?\n",
    "\n",
    "Es lo que nos dice *como funciona* el lenguaje, de manera homónima, es como el manual de instrucciones de un producto\n",
    "\n",
    "Para conocer la documentación de python se peude acceder al siguiente [**enlace**](https://docs.python.org/3/)"
   ]
  },
  {
   "cell_type": "markdown",
   "metadata": {},
   "source": [
    "## PEP 8 -- Style Guide for Python Code 🎈[*aquí*](https://www.python.org/dev/peps/pep-0008/)\n",
    "\n",
    "Este es un documento que conforma toda la guia de estilos de python. Esta guía nos indica como funciona el lenguaje y como se debería escribir el código de manera correcta.\n",
    "Al dar click al enlace encontramos un documento que nos indica como deberiamos escribir en python, como por ejemplo formas para escribir comentarios, como nombrar las clases, formas de escribir código, entre otros.\n",
    "\n",
    "Algunas de las recomendaciones básicas de la guia son:\n",
    "\n",
    "> 1. Se prefieren los espacios como método de identación sobre la tabulación (4 espacios)\n",
    "> 2. Longitud maxima de 79 caracteres por línea \n",
    "    - En caso de tener comentarios o documentaciones, la longitud de la linea se debe limitar a 72 caracteres\n",
    "> 3. El codigo en las distribuciones core de Python debe ser siempre escrito en UTF-8 u no debe tener declaración de codificación\n",
    "> 4. Las importaciones deben ser usualmente en lineas separadas\n",
    "> ``` \n",
    "> # Correct:\n",
    "> import os\n",
    "> import sys\n",
    "> ```\n",
    "> ``` \n",
    "> # Wrong:\n",
    "> import sys, os\n",
    "> ```\n"
   ]
  }
 ],
 "metadata": {
  "language_info": {
   "name": "python"
  },
  "orig_nbformat": 4
 },
 "nbformat": 4,
 "nbformat_minor": 2
}
