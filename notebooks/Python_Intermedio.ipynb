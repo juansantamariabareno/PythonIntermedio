{
 "cells": [
  {
   "cell_type": "markdown",
   "metadata": {},
   "source": [
    "# Python Intermedio\n",
    "\n",
    "## ¿Qué es la documentación?\n",
    "\n",
    "Es lo que nos dice *como funciona* el lenguaje, de manera homónima, es como el manual de instrucciones de un producto\n",
    "\n",
    "Para conocer la documentación de python se peude acceder al siguiente [**enlace**](https://docs.python.org/3/)"
   ]
  },
  {
   "cell_type": "markdown",
   "metadata": {},
   "source": [
    "## PEP 8 -- Style Guide for Python Code 🎈[*aquí*](https://www.python.org/dev/peps/pep-0008/)\n",
    "\n",
    "Este es un documento que conforma toda la guia de estilos de python. Esta guía nos indica como funciona el lenguaje y como se debería escribir el código de manera correcta.\n",
    "Al dar click al enlace encontramos un documento que nos indica como deberiamos escribir en python, como por ejemplo formas para escribir comentarios, como nombrar las clases, formas de escribir código, entre otros.\n",
    "\n",
    "Algunas de las recomendaciones básicas de la guia son:\n",
    "\n",
    "> 1. Se prefieren los espacios como método de identación sobre la tabulación (4 espacios)\n",
    "> 2. Longitud maxima de 79 caracteres por línea \n",
    "    - En caso de tener comentarios o documentaciones, la longitud de la linea se debe limitar a 72 caracteres\n",
    "> 3. El codigo en las distribuciones core de Python debe ser siempre escrito en UTF-8 u no debe tener declaración de codificación\n",
    "> 4. Las importaciones deben ser usualmente en lineas separadas\n",
    "> ``` \n",
    "> # Correct:\n",
    "> import os\n",
    "> import sys\n",
    "> ```\n",
    "> ``` \n",
    "> # Wrong:\n",
    "> import sys, os\n",
    "> ```\n"
   ]
  },
  {
   "cell_type": "markdown",
   "metadata": {},
   "source": [
    "## ¿Qué es un entorno virtual?\n",
    "Es un entorno en el cual podemos independizar nuestro código python con los módulos que se requieran, es decir, puedo tener un python aislado para cada proyecto el cual va a cargar sus propios módulos\n",
    "\n",
    "### Creación de un entorno virtual\n",
    "Como primer paso creamos una carpeta dentro de nuestro directorio de trabajo en el cual no vamos a utilizar el python que tenemos instalado en nuestra computadora, en lugar de eso, crearemos un entorno virtual con un python que se ejecutara en esa carpeta en nuestra carpeta del repositorio\n",
    "\n",
    "![img1](./img/img1.png)\n",
    "\n",
    "Lo siguiente que vamos a hacer es crear el entorno virtual (para este caso uso windows, en linux es python3 el comando)\n",
    "```\n",
    "py -m venv venv\n",
    "```\n",
    "la sintaxis del código anterior es:\n",
    "* **py**: el ambiente de python dentro del terminal\n",
    "* **-m**: es el flag para cargar el módulo\n",
    "* **venv**: es el módulo para crear ambientes virtuales\n",
    "* **< nombre >**: es el nombre que tendra el ambiente virtual. Por conveccion se usa venv que significa *virtual environment*\n",
    "Esto va a crear una carpeta donde va a convivir un python donde vamos a poder instalar y actualizar los módulos a gusto sin tocar ni actualizar nuestro python local en la computadora. **Pero ojo**, con que el entorno virtual este creado no es suficiente, se debe ingresar y activar el entorno virtual para que nuestra consola no trabaje con el python de nuestra computadora.\n",
    "\n",
    ">```\n",
    ">C:\\Users\\juan.santamaria\\Documents\\Personales Juan Diego Santamaria\\Platzi\\Python Intermedio\\proyecto_ejemplo (main)\n",
    ">λ ls\n",
    ">venv/\n",
    ">C:\\Users\\juan.santamaria\\Documents\\Personales Juan Diego Santamaria\\Platzi\\Python Intermedio\\proyecto_ejemplo (main)\n",
    ">λ ls venv\\\n",
    ">Include/  Lib/  pyvenv.cfg  Scripts/\n",
    ">```\n",
    "\n",
    "Dentro de la carpeta Scripts se encuentra el comando para poder activar el entorno virtual. Para activar el comando depende del entorno:\n",
    "* Linux/Mac\n",
    "> En un sistema de Unix, la carpeta Scripts no existe, existe es la de bin\n",
    "```\n",
    "source venv/bin/activate\n",
    "``` \n",
    "* Windows\n",
    "```\n",
    "C:\\Users\\juan.santamaria\\Documents\\Personales Juan Diego Santamaria\\Platzi\\Python Intermedio\\proyecto_ejemplo (main)\n",
    "λ .\\venv\\Scripts\\activate\n",
    "C:\\Users\\juan.santamaria\\Documents\\Personales Juan Diego Santamaria\\Platzi\\Python Intermedio\\proyecto_ejemplo (main)\n",
    "(venv) λ\n",
    "```\n",
    "> Si ejecutamos este comando se puede observar que a parte del *(main)* que indica el branch de nuestro repositorio de git, aparece un *(venv)* que nos indica que estamos ejecutando nuestro entorno virtual para la carpeta que tiene de nombre **venv**. Con esto utilizamos un python clonado que solo funciona en este proyecto.\n",
    "\n",
    "Para salir del entorno virtual, es suficiente con el comando ```deactivate```. Sin embargo, para ingresar al entorno virtual es un poco engorroso estar escribiendo el comando constantemente o estarnos aprendiendo el comando, con lo cual se recomienda crear un ***alias*** \n",
    "* En Windows el alias se almacena en el Cmder\n",
    "```\n",
    "alias avenv=.\\venv\\Scripts\\activate\n",
    "```\n",
    "* En Linux\\Mac el comando no se almacena por completo, para hacerlo es necesario modificar el archivo ```.bashrc```\n",
    "```\n",
    "sudo nano ~/.bashrc\n",
    "alias avenv = \"source venv/bin/activate\"\n",
    "source ~/.bashrc\n",
    "```\n",
    "De esa forma persistirá siempre, ya que el alias se guarda dentro del archivo de configuración de la terminal 😊\n",
    "\n"
   ]
  },
  {
   "cell_type": "markdown",
   "metadata": {},
   "source": [
    "## Instalación de dependencias con PIP (Package Installer for Python)\n",
    "\n",
    "Dentro de python tenemos un monton de módulos, es decir, un monton de código escrito por otras personas que podemos aprovechar. Hay unos módulos que vienen de fabrica con python y otros que no, para instalar los que no vienen por defecto es donde usamos **pip**\n",
    "\n",
    "**Módulos populares**:\n",
    "* Requests (WebScraping)\n",
    "* BeautifulSoup4 (WebScraping)\n",
    "* Pandas (Ciencia de datos)\n",
    "* Numpy (Ciencia de datos)\n",
    "* Pytest (Testing)\n",
    "\n",
    "Dentro de nuestro entorno virtual ejecutamos los comandos. Con ```pip freeze``` listamos los módulos que tenemos instalados. En el momento de ejecutarlo en el entorno virtual, saldra vacio dado que no hemos instalado nada"
   ]
  },
  {
   "cell_type": "code",
   "execution_count": null,
   "metadata": {},
   "outputs": [],
   "source": [
    "pip freeze"
   ]
  },
  {
   "cell_type": "markdown",
   "metadata": {},
   "source": [
    "![img2](./img/img2.png)"
   ]
  },
  {
   "cell_type": "code",
   "execution_count": null,
   "metadata": {},
   "outputs": [],
   "source": [
    "pip install pandas"
   ]
  },
  {
   "cell_type": "markdown",
   "metadata": {},
   "source": [
    "![img3](./img/img3.png)\n",
    "\n",
    "**Pero ojo**, que sucede si queremos compartir nuestro proyecto con otro colaborador, y esta persona va a necesitar tener python con exactamente las mismas librerias y los mismos módulos que hemos cargado, en este caso es donde entra un archivo importante en los entornos virtuales mediante los archivos ```requirements.txt```\n",
    "\n",
    "```\n",
    "pip freeze > requirements.txt\n",
    "```\n",
    "![img4](./img/img4.png)\n",
    "\n",
    "Una vez que la persona tiene ese archivo, lo unico que necesita realizar para instalar las dependencias es ejecutar el siguiente comando\n",
    "\n",
    "```\n",
    "pip install -r requirements.txt\n",
    "```\n",
    "\n",
    "\n",
    "\n"
   ]
  },
  {
   "cell_type": "markdown",
   "metadata": {},
   "source": [
    "## Listas y diccionarios anidados\n",
    "\n",
    "Para este caso ya no se trabajará en la carpeta *proyecto_ejemplo* dado que solo era un ejemplo para ver como crear entornos virtuales. Ahora, se trabajara sobre la carpeta principal en donde se creara un entorno virtual ```py -m venv venv```\n",
    "\n",
    "Las listas son una manera de organizar objetos al igual que los diccionarios, solo que los diccionarios tienen una estructura de llave -> valor, sin embargo, las listas pueden almacenar diccionarios y los diccionarios pueden almacenar listas dado que cada uno es un objeto en python.\n",
    "\n",
    "El codigo de este trabajo se encuentra en el archivo ```lists_and_dicts.py```"
   ]
  },
  {
   "cell_type": "code",
   "execution_count": 8,
   "metadata": {},
   "outputs": [
    {
     "name": "stdout",
     "output_type": "stream",
     "text": [
      "natural_nums - [1, 2, 3, 4, 5]\n",
      "integer_nums - [-1, -2, 0, 1, 2]\n",
      "floating_nums - [1.1, 4.5, 6.43]\n"
     ]
    }
   ],
   "source": [
    "def run():\n",
    "    my_list = [1, \"Hello\", True, 4.5]\n",
    "    my_dict = {\"firstname\": \"Juan\", \"lastname\": \"Santamaria\"}\n",
    "\n",
    "    # Esta sera una lista que contenga diccionarios (lista de diccionarios)\n",
    "    super_list = [\n",
    "        {\"firstname\": \"Juan\", \"lastname\": \"Santamaria\"},\n",
    "        {\"firstname\": \"Diego\", \"lastname\": \"Bareño\"},\n",
    "        {\"firstname\": \"Julieth\", \"lastname\": \"Garnica\"},\n",
    "        {\"firstname\": \"Marylight\", \"lastname\": \"Patiño\"},\n",
    "        {\"firstname\": \"Juan\", \"lastname\": \"Perez\"}\n",
    "    ]\n",
    "\n",
    "    # Diccionario que contiene listas (diccionario de listas)\n",
    "    super_dict = {\n",
    "        \"natural_nums\": [1,2,3,4,5],\n",
    "        \"integer_nums\": [-1,-2,0,1,2],\n",
    "        \"floating_nums\": [1.1,4.5,6.43]\n",
    "    }\n",
    "\n",
    "    # Hacemos un ciclo for para recorrer el diccionario\n",
    "    # Recorremos las llaves y valores en un mismo ciclo con .items()\n",
    "    for key, value in super_dict.items():\n",
    "        print(key, \"-\", value)\n",
    "\n",
    "# entrypoint que ejecuta la función al cargar el codigo de python\n",
    "if __name__ == '__main__':\n",
    "    run()"
   ]
  },
  {
   "cell_type": "markdown",
   "metadata": {},
   "source": [
    "Al ejecutar el código en consola, observamos que nos imprime los valores del super_dict. Si queremos imprimir los valores de la super_list, el codigo cambia de la siguiente manera:"
   ]
  },
  {
   "cell_type": "code",
   "execution_count": 12,
   "metadata": {},
   "outputs": [
    {
     "name": "stdout",
     "output_type": "stream",
     "text": [
      "firstname - Juan\n",
      "lastname - Santamaria\n",
      "firstname - Diego\n",
      "lastname - Bareño\n",
      "firstname - Julieth\n",
      "lastname - Garnica\n",
      "firstname - Marylight\n",
      "lastname - Patiño\n",
      "firstname - Juan\n",
      "lastname - Perez\n"
     ]
    }
   ],
   "source": [
    "def run():\n",
    "    my_list = [1, \"Hello\", True, 4.5]\n",
    "    my_dict = {\"firstname\": \"Juan\", \"lastname\": \"Santamaria\"}\n",
    "\n",
    "    # Esta sera una lista que contenga diccionarios (lista de diccionarios)\n",
    "    super_list = [\n",
    "        {\"firstname\": \"Juan\", \"lastname\": \"Santamaria\"},\n",
    "        {\"firstname\": \"Diego\", \"lastname\": \"Bareño\"},\n",
    "        {\"firstname\": \"Julieth\", \"lastname\": \"Garnica\"},\n",
    "        {\"firstname\": \"Marylight\", \"lastname\": \"Patiño\"},\n",
    "        {\"firstname\": \"Juan\", \"lastname\": \"Perez\"}\n",
    "    ]\n",
    "\n",
    "    # Diccionario que contiene listas (diccionario de listas)\n",
    "    super_dict = {\n",
    "        \"natural_nums\": [1,2,3,4,5],\n",
    "        \"integer_nums\": [-1,-2,0,1,2],\n",
    "        \"floating_nums\": [1.1,4.5,6.43]\n",
    "    }\n",
    "\n",
    "    # Hacemos un ciclo for para recorrer la lista\n",
    "    for values_list in super_list:\n",
    "        # Ahora que ya recorremos la lista, imprimimos los valores del diccionario\n",
    "        for key, value in values_list.items():\n",
    "            print(key, \"-\", value)\n",
    "\n",
    "# entrypoint que ejecuta la función al cargar el codigo de python\n",
    "if __name__ == '__main__':\n",
    "    run()"
   ]
  },
  {
   "cell_type": "markdown",
   "metadata": {},
   "source": [
    "El código completo para imprimir ambas cosas queda de esta forma:"
   ]
  },
  {
   "cell_type": "code",
   "execution_count": 15,
   "metadata": {},
   "outputs": [
    {
     "name": "stdout",
     "output_type": "stream",
     "text": [
      " -- Imprimiendo listas anidadas en el diccionario -- \n",
      "natural_nums - [1, 2, 3, 4, 5]\n",
      "integer_nums - [-1, -2, 0, 1, 2]\n",
      "floating_nums - [1.1, 4.5, 6.43]\n",
      " -- Imprimiendo valores de diccionarios anidados en las listas\n",
      "Diccionario -- \n",
      "firstname - Juan\n",
      "lastname - Santamaria\n",
      "Diccionario -- \n",
      "firstname - Diego\n",
      "lastname - Bareño\n",
      "Diccionario -- \n",
      "firstname - Julieth\n",
      "lastname - Garnica\n",
      "Diccionario -- \n",
      "firstname - Marylight\n",
      "lastname - Patiño\n",
      "Diccionario -- \n",
      "firstname - Juan\n",
      "lastname - Perez\n"
     ]
    }
   ],
   "source": [
    "def run():\n",
    "    my_list = [1, \"Hello\", True, 4.5]\n",
    "    my_dict = {\"firstname\": \"Juan\", \"lastname\": \"Santamaria\"}\n",
    "\n",
    "    # Esta sera una lista que contenga diccionarios (lista de diccionarios)\n",
    "    super_list = [\n",
    "        {\"firstname\": \"Juan\", \"lastname\": \"Santamaria\"},\n",
    "        {\"firstname\": \"Diego\", \"lastname\": \"Bareño\"},\n",
    "        {\"firstname\": \"Julieth\", \"lastname\": \"Garnica\"},\n",
    "        {\"firstname\": \"Marylight\", \"lastname\": \"Patiño\"},\n",
    "        {\"firstname\": \"Juan\", \"lastname\": \"Perez\"}\n",
    "    ]\n",
    "\n",
    "    # Diccionario que contiene listas (diccionario de listas)\n",
    "    super_dict = {\n",
    "        \"natural_nums\": [1,2,3,4,5],\n",
    "        \"integer_nums\": [-1,-2,0,1,2],\n",
    "        \"floating_nums\": [1.1,4.5,6.43]\n",
    "    }\n",
    "\n",
    "    # Hacemos un ciclo for para recorrer el diccionario\n",
    "    # Recorremos las llaves y valores en un mismo ciclo con .items()\n",
    "    print(\" -- Imprimiendo listas anidadas en el diccionario -- \")\n",
    "    for key, value in super_dict.items():\n",
    "        print(key, \"-\", value)\n",
    "\n",
    "    # Hacemos un ciclo for para recorrer la lista\n",
    "    print(\" -- Imprimiendo valores de diccionarios anidados en las listas\")\n",
    "    for values_list in super_list:\n",
    "        # Ahora que ya recorremos la lista, imprimimos los valores del diccionario\n",
    "        print(\"Diccionario -- \")\n",
    "        for key, value in values_list.items():\n",
    "            print(key, \"-\", value)\n",
    "\n",
    "# entrypoint que ejecuta la función al cargar el codigo de python\n",
    "if __name__ == '__main__':\n",
    "    run()"
   ]
  },
  {
   "cell_type": "markdown",
   "metadata": {},
   "source": [
    "## List comprehensions\n",
    "Ejemplo de como obtener una lista con los 100 primeros números naturales al cuadrado"
   ]
  },
  {
   "cell_type": "code",
   "execution_count": 18,
   "metadata": {},
   "outputs": [
    {
     "name": "stdout",
     "output_type": "stream",
     "text": [
      "[1, 4, 9, 16, 25, 36, 49, 64, 81, 100, 121, 144, 169, 196, 225, 256, 289, 324, 361, 400, 441, 484, 529, 576, 625, 676, 729, 784, 841, 900, 961, 1024, 1089, 1156, 1225, 1296, 1369, 1444, 1521, 1600, 1681, 1764, 1849, 1936, 2025, 2116, 2209, 2304, 2401, 2500, 2601, 2704, 2809, 2916, 3025, 3136, 3249, 3364, 3481, 3600, 3721, 3844, 3969, 4096, 4225, 4356, 4489, 4624, 4761, 4900, 5041, 5184, 5329, 5476, 5625, 5776, 5929, 6084, 6241, 6400, 6561, 6724, 6889, 7056, 7225, 7396, 7569, 7744, 7921, 8100, 8281, 8464, 8649, 8836, 9025, 9216, 9409, 9604, 9801, 10000]\n"
     ]
    }
   ],
   "source": [
    "def run():\n",
    "    cuadrados = []\n",
    "    for x in range(1,101):\n",
    "        cuadrados.append(x**2)\n",
    "    print(cuadrados)\n",
    "    \n",
    "# Creo mi entrypoint\n",
    "if __name__ == \"__main__\":\n",
    "    run()"
   ]
  },
  {
   "cell_type": "markdown",
   "metadata": {},
   "source": [
    "Ahora, resulta que solo quiero guardar el cuadrado de los números que no sean divisibles entre 3"
   ]
  },
  {
   "cell_type": "code",
   "execution_count": 19,
   "metadata": {},
   "outputs": [
    {
     "name": "stdout",
     "output_type": "stream",
     "text": [
      "[1, 4, 16, 25, 49, 64, 100, 121, 169, 196, 256, 289, 361, 400, 484, 529, 625, 676, 784, 841, 961, 1024, 1156, 1225, 1369, 1444, 1600, 1681, 1849, 1936, 2116, 2209, 2401, 2500, 2704, 2809, 3025, 3136, 3364, 3481, 3721, 3844, 4096, 4225, 4489, 4624, 4900, 5041, 5329, 5476, 5776, 5929, 6241, 6400, 6724, 6889, 7225, 7396, 7744, 7921, 8281, 8464, 8836, 9025, 9409, 9604, 10000]\n"
     ]
    }
   ],
   "source": [
    "def run():\n",
    "    cuadrados = []\n",
    "    for x in range(1,101):\n",
    "        if x%3 != 0:\n",
    "            cuadrados.append(x**2)\n",
    "    print(cuadrados)\n",
    "    \n",
    "# Creo mi entrypoint\n",
    "if __name__ == \"__main__\":\n",
    "    run()"
   ]
  },
  {
   "cell_type": "markdown",
   "metadata": {},
   "source": [
    "Eso que acabamos de hacer se puede resolver en una sola linea de codigo con el concepto de las *list comprehensions*"
   ]
  },
  {
   "cell_type": "code",
   "execution_count": 1,
   "metadata": {},
   "outputs": [
    {
     "name": "stdout",
     "output_type": "stream",
     "text": [
      "[1, 4, 16, 25, 49, 64, 100, 121, 169, 196, 256, 289, 361, 400, 484, 529, 625, 676, 784, 841, 961, 1024, 1156, 1225, 1369, 1444, 1600, 1681, 1849, 1936, 2116, 2209, 2401, 2500, 2704, 2809, 3025, 3136, 3364, 3481, 3721, 3844, 4096, 4225, 4489, 4624, 4900, 5041, 5329, 5476, 5776, 5929, 6241, 6400, 6724, 6889, 7225, 7396, 7744, 7921, 8281, 8464, 8836, 9025, 9409, 9604, 10000]\n"
     ]
    }
   ],
   "source": [
    "def run():\n",
    "    # Usando list comprehensions\n",
    "    cuadrados = [x**2 for x in range(1, 101) if x % 3 != 0]\n",
    "    print(cuadrados)\n",
    "    \n",
    "# Creo mi entrypoint\n",
    "if __name__ == \"__main__\":\n",
    "    run()"
   ]
  },
  {
   "cell_type": "markdown",
   "metadata": {},
   "source": [
    "Un *list comprehensions* se lee de la siguiente manera\n",
    "```\n",
    "[element ***for*** element ***in*** iterable ***if*** condition]\n",
    "```\n",
    "![img5](./img/img5.png)\n",
    "\n",
    "> **En mi nueva lista voy a guardar para cada elemento en el iterable, ese elemento, solo si se cumple la condición**\n",
    "\n",
    "![img6](./img/img6.png)\n",
    "\n",
    "![gif1](./img/gif1.gif \"segment\")\n",
    "\n",
    "Para el caso del código de ejemplo se leeria: *para cada i en el rando de 1 a 101, voy a guardar esa i elevada al cuadrado, solo si esa i módulo 3 es distinto de cero*"
   ]
  },
  {
   "cell_type": "markdown",
   "metadata": {},
   "source": [
    "**Reto**: Crear, con un list comprehensions, una lista de todos los múltiplos de 4 que a la vez también son múltiplos de 6 y de 9, hasta 5 dígitos"
   ]
  },
  {
   "cell_type": "code",
   "execution_count": null,
   "metadata": {},
   "outputs": [],
   "source": [
    "def run():\n",
    "    ''' Notas para el reto\n",
    "        1. El rango de 5 dígitos va del 1 al 99999\n",
    "        2. Un número es múltiplo de otro si el módulo es igual a 0\n",
    "            Ej: 8 % 4 = 0 ya que 8 es múltiplo de 4\n",
    "        3. Hay una forma corta de solucionar el ejercicio y es usando el concepto matemático del minimo comun multiplo\n",
    "    '''\n",
    "    # Forma larga\n",
    "    # multiplos = [i for i in range(1,99999) if (i % 4 and i % 9 and i % 9) == 0]\n",
    "    # Forma corta\n",
    "    ''' En este caso queremos encontrar el mínimo común multiplo de 4, 6 y 9. Para encontrarlo, \n",
    "        recomiendo esta ruta (https://cuadernos.rubio.net/con-buena-letra/calcular-minimo-comun-multiplo-mcm-y-maximo-comun-divisor-mcd).\n",
    "        Luego de aplicar lo visto en esa ruta, llegarás a que el mcm de 4, 6 y 9 es el número 36 y se obtiene de la siguiente manera\n",
    "        9|3     4|2     6|2\n",
    "        3|3     2|2     3|3\n",
    "        1|      1|      1|\n",
    "        3^2     2^2     2x3\n",
    "        \n",
    "        El 3 y el 2 aparecen en comun en las 3 descomposiciones, donde el mayor exponente en cada uno es el elevado al cuadrado\n",
    "        MCM(4,6,9) = 3^2x2^2 = 9x4 = 36\n",
    "    '''\n",
    "    multiplos = [i for i in range(1,99999) if i % 36 == 0]\n",
    "    print(multiplos)\n",
    "    \n",
    "    \n",
    "# Creo mi entrypoint\n",
    "if __name__ == \"__main__\":\n",
    "    run()"
   ]
  },
  {
   "cell_type": "markdown",
   "metadata": {},
   "source": [
    "## Dictionaty comprehensions\n",
    "\n",
    "Lo mismo que se aplico a las listas, se puede aplicar a los diccionarios\n",
    "\n",
    "**Reto**: Crear un diccionario cuyas llaves sean los 100 primeros numeros naturales y cuyos valores sean ese mismo número elevado al cubo y no sean divisibles por 3"
   ]
  },
  {
   "cell_type": "code",
   "execution_count": 28,
   "metadata": {},
   "outputs": [
    {
     "name": "stdout",
     "output_type": "stream",
     "text": [
      "{1: 1, 2: 8, 4: 64, 5: 125, 7: 343, 8: 512, 10: 1000, 11: 1331, 13: 2197, 14: 2744, 16: 4096, 17: 4913, 19: 6859, 20: 8000, 22: 10648, 23: 12167, 25: 15625, 26: 17576, 28: 21952, 29: 24389, 31: 29791, 32: 32768, 34: 39304, 35: 42875, 37: 50653, 38: 54872, 40: 64000, 41: 68921, 43: 79507, 44: 85184, 46: 97336, 47: 103823, 49: 117649, 50: 125000, 52: 140608, 53: 148877, 55: 166375, 56: 175616, 58: 195112, 59: 205379, 61: 226981, 62: 238328, 64: 262144, 65: 274625, 67: 300763, 68: 314432, 70: 343000, 71: 357911, 73: 389017, 74: 405224, 76: 438976, 77: 456533, 79: 493039, 80: 512000, 82: 551368, 83: 571787, 85: 614125, 86: 636056, 88: 681472, 89: 704969, 91: 753571, 92: 778688, 94: 830584, 95: 857375, 97: 912673, 98: 941192, 100: 1000000}\n"
     ]
    }
   ],
   "source": [
    "def run():\n",
    "    diccionario = {i : i**3 for i in range (1,101) if i % 3 != 0}\n",
    "    print(diccionario)\n",
    "\n",
    "if __name__ == \"__main__\":\n",
    "    run()"
   ]
  },
  {
   "cell_type": "markdown",
   "metadata": {},
   "source": [
    "**Reto**: Crear, con un dictionary comprehension, un diccionario cuyas llaves sean los 1000 primeros números naturales y sus valores sean las raíces cuadradas"
   ]
  },
  {
   "cell_type": "code",
   "execution_count": null,
   "metadata": {},
   "outputs": [],
   "source": [
    "def run():\n",
    "    diccionario = {i : i**0.5 for i in range (1,1001)}\n",
    "    print(diccionario)\n",
    "\n",
    "if __name__ == \"__main__\":\n",
    "    run()"
   ]
  },
  {
   "cell_type": "markdown",
   "metadata": {},
   "source": [
    "## Funciones anónimas\n",
    "*Lectura recomendada*: 💻🖥📱📚 [**aquí**](https://docs.python.org/3/tutorial/controlflow.html?highlight=lambda#lambda-expressions)\n",
    "\n",
    "Una función es simplemente código que escribimos una vez y que ejecutamos luego en diferentes lugares de lo que estemos trabajando.\n",
    "\n",
    "Para crear una función se maneja la estructura ```def <nombre funcion>(<parámetros>):```\n",
    "\n",
    "Existe un concepto nuevo, hay una manera de escribir funciones sin nombre llamadas **funciones anónimas** o conocidas popularmente como *lambda functions* y su estructura es ```lambda argumentos: expresión```. En lugar de usar ```def``` usamos ```lambda``` y colocamos despues los argumentos. Las funciones lambda pueden tener los argumentos que necesitemos pero, una sola línea de código. En el caso de las funciones lambda, no necesitamos escribir la función de ```return``` ya que retorna automáticamente el valor de la expresión."
   ]
  },
  {
   "cell_type": "code",
   "execution_count": 34,
   "metadata": {},
   "outputs": [
    {
     "name": "stdout",
     "output_type": "stream",
     "text": [
      "True\n"
     ]
    }
   ],
   "source": [
    "# Ejemplo palíndromo con función normal\n",
    "# def palindrome(string):\n",
    "#     return string == string[::-1]\n",
    "\n",
    "# Escrito en lambda functions seria de este tipo\n",
    "palindrome = lambda string: string == string[::-1]\n",
    "\n",
    "print(palindrome('ana'))"
   ]
  },
  {
   "cell_type": "markdown",
   "metadata": {},
   "source": [
    "## High order functions: filter, map y reduce\n",
    "\n",
    "Una función de orden superior es una función que recibe como parámetro otra función.\n",
    "\n",
    "### **Filter**\n",
    "Esta función permite extraer nuevos valores de una liste conforme a lo que le pase como función. Filter retorna un *iterador*, por lo tanto es necesario convertir ese resultado en lista.\n",
    "\n",
    "*filter* devuelve True or False según el valor esté dentro de los criterios buscados o no. En caso de que no cumpla con la condición, no será devuelto y la lista se verá reducida por este filtro.\n",
    "\n",
    "![img7](./img/img7.png)\n",
    "\n",
    "### **Map**\n",
    "Map funciona muy parecido a filter, pero su diferencia radica en que no puede eliminar valores de la lista del array entregado. Es decir, el output tiene la misma cantidad de valores que el input.\n",
    "\n",
    "![img8](./img/img8.png)\n",
    "\n",
    "### **Reduce**\n",
    "Reduce toma 2 valores entregados como parámetros y el iterador como otro parámetro. Realiza la función con estos 2 valores, y luego con el resultado de esto y el valor que le sigue en el array. Y así hasta pasar por todos los valores de la lista.\n",
    "\n",
    "En este caso, se debe importar la funcion reduce ya que no esta por defecto en python\n",
    "\n",
    "![img9](./img/img9.png)"
   ]
  },
  {
   "cell_type": "markdown",
   "metadata": {},
   "source": [
    "## Filtrando datos\n",
    "\n",
    "Vamos a tomar de referencia la siguiente DATA para realizar filtrado de información aprovechando los conceptos de comprehension, lambda function y high order function. Para analizar tenemos la siguiente data:"
   ]
  },
  {
   "cell_type": "code",
   "execution_count": 1,
   "metadata": {},
   "outputs": [],
   "source": [
    "DATA = [\n",
    "    {\n",
    "        'name': 'Facundo',\n",
    "        'age': 72,\n",
    "        'organization': 'Platzi',\n",
    "        'position': 'Technical Coach',\n",
    "        'language': 'python',\n",
    "    },\n",
    "    {\n",
    "        'name': 'Luisana',\n",
    "        'age': 33,\n",
    "        'organization': 'Globant',\n",
    "        'position': 'UX Designer',\n",
    "        'language': 'javascript',\n",
    "    },\n",
    "    {\n",
    "        'name': 'Héctor',\n",
    "        'age': 19,\n",
    "        'organization': 'Platzi',\n",
    "        'position': 'Associate',\n",
    "        'language': 'ruby',\n",
    "    },\n",
    "    {\n",
    "        'name': 'Gabriel',\n",
    "        'age': 20,\n",
    "        'organization': 'Platzi',\n",
    "        'position': 'Associate',\n",
    "        'language': 'javascript',\n",
    "    },\n",
    "    {\n",
    "        'name': 'Isabella',\n",
    "        'age': 30,\n",
    "        'organization': 'Platzi',\n",
    "        'position': 'QA Manager',\n",
    "        'language': 'java',\n",
    "    },\n",
    "    {\n",
    "        'name': 'Karo',\n",
    "        'age': 23,\n",
    "        'organization': 'Everis',\n",
    "        'position': 'Backend Developer',\n",
    "        'language': 'python',\n",
    "    },\n",
    "    {\n",
    "        'name': 'Ariel',\n",
    "        'age': 32,\n",
    "        'organization': 'Rappi',\n",
    "        'position': 'Support',\n",
    "        'language': '',\n",
    "    },\n",
    "    {\n",
    "        'name': 'Juan',\n",
    "        'age': 17,\n",
    "        'organization': '',\n",
    "        'position': 'Student',\n",
    "        'language': 'go',\n",
    "    },\n",
    "    {\n",
    "        'name': 'Pablo',\n",
    "        'age': 32,\n",
    "        'organization': 'Master',\n",
    "        'position': 'Human Resources Manager',\n",
    "        'language': 'python',\n",
    "    },\n",
    "    {\n",
    "        'name': 'Lorena',\n",
    "        'age': 56,\n",
    "        'organization': 'Python Organization',\n",
    "        'position': 'Language Maker',\n",
    "        'language': 'python',\n",
    "    },\n",
    "]"
   ]
  },
  {
   "cell_type": "markdown",
   "metadata": {},
   "source": [
    "Esta data es una lista de diccionarios, con lo cual podemos comenzar a realizar el filtrado. Como primer ejemplo veremos como mediante las *comprehension list* obtenemos la información que necesitamos"
   ]
  },
  {
   "cell_type": "code",
   "execution_count": 12,
   "metadata": {},
   "outputs": [
    {
     "name": "stdout",
     "output_type": "stream",
     "text": [
      "## Printing Python Devs ##\n",
      "Facundo\n",
      "Karo\n",
      "Pablo\n",
      "Lorena\n",
      "## Printing Platzi workers\n",
      "Facundo\n",
      "Héctor\n",
      "Gabriel\n",
      "Isabella\n"
     ]
    }
   ],
   "source": [
    "def run():\n",
    "    # Comprehensions solutions\n",
    "    # En esta linea obtenemos todos los trabajadores de data cuyo lenguaje dominante sea python\n",
    "    all_python_devs = [worker[\"name\"] for worker in DATA if worker[\"language\"] == \"python\"]\n",
    "    print(\"## Printing Python Devs ##\")\n",
    "    for worker in all_python_devs:\n",
    "        print(worker)\n",
    "    # En esta linea obtenemos los trabajadores que pertenezcan a la organización Platzi\n",
    "    all_Platzi_workers = [worker[\"name\"] for worker in DATA if worker[\"organization\"] == \"Platzi\"]\n",
    "    print(\"## Printing Platzi workers\")\n",
    "    for worker in all_Platzi_workers:\n",
    "            print(worker)\n",
    "\n",
    "if __name__ == '__main__':\n",
    "    run()"
   ]
  },
  {
   "cell_type": "code",
   "execution_count": 4,
   "metadata": {},
   "outputs": [
    {
     "name": "stdout",
     "output_type": "stream",
     "text": [
      "Facundo\n",
      "Luisana\n",
      "Héctor\n",
      "Gabriel\n",
      "Isabella\n",
      "Karo\n",
      "Ariel\n",
      "Pablo\n",
      "Lorena\n"
     ]
    }
   ],
   "source": [
    "def run():\n",
    "\n",
    "    # Para sacar los mayores de cierta edad usaremos las High Order Functions\n",
    "    adults = list(filter(lambda worker: worker[\"age\"] > 18, DATA))\n",
    "    # La linea anterior si la imprimimos arroja todo el diccionario, pero yo quiero solo el nombre\n",
    "    # Para eso usamos una combinación de Hight Order Functions\n",
    "    # En este caso sobreescribimos la variable aplicando map sobre cada worker\n",
    "    # extrayendo el nombre\n",
    "    adults = list(map(lambda worker: worker[\"name\"], adults))\n",
    "    for worker in adults:\n",
    "        print(worker)\n",
    "\n",
    "if __name__ == '__main__':\n",
    "    run()\n"
   ]
  },
  {
   "cell_type": "code",
   "execution_count": 6,
   "metadata": {},
   "outputs": [
    {
     "name": "stdout",
     "output_type": "stream",
     "text": [
      "{'name': 'Facundo', 'age': 72, 'organization': 'Platzi', 'position': 'Technical Coach', 'language': 'python', 'old': True}\n",
      "{'name': 'Luisana', 'age': 33, 'organization': 'Globant', 'position': 'UX Designer', 'language': 'javascript', 'old': False}\n",
      "{'name': 'Héctor', 'age': 19, 'organization': 'Platzi', 'position': 'Associate', 'language': 'ruby', 'old': False}\n",
      "{'name': 'Gabriel', 'age': 20, 'organization': 'Platzi', 'position': 'Associate', 'language': 'javascript', 'old': False}\n",
      "{'name': 'Isabella', 'age': 30, 'organization': 'Platzi', 'position': 'QA Manager', 'language': 'java', 'old': False}\n",
      "{'name': 'Karo', 'age': 23, 'organization': 'Everis', 'position': 'Backend Developer', 'language': 'python', 'old': False}\n",
      "{'name': 'Ariel', 'age': 32, 'organization': 'Rappi', 'position': 'Support', 'language': '', 'old': False}\n",
      "{'name': 'Juan', 'age': 17, 'organization': '', 'position': 'Student', 'language': 'go', 'old': False}\n",
      "{'name': 'Pablo', 'age': 32, 'organization': 'Master', 'position': 'Human Resources Manager', 'language': 'python', 'old': False}\n",
      "{'name': 'Lorena', 'age': 56, 'organization': 'Python Organization', 'position': 'Language Maker', 'language': 'python', 'old': False}\n"
     ]
    }
   ],
   "source": [
    "def run():\n",
    "    # Ahora creamos una variable old para tener una lista de diccionarios y extraer los mayores de 18 con un \n",
    "    # true or false\n",
    "    old_people = list(map(lambda worker: worker | {\"old\": worker[\"age\"] > 70}, DATA))\n",
    "    # En la siguiente linea explico la función\n",
    "    # lambda worker: worker | {\"old\": worker[\"age\"] > 70}\n",
    "    # En la anterior función se busca transformar cada uno de los diccionarios en DATA\n",
    "    # en un diccionario nuevo que es la combinación de el diccionario original worker\n",
    "    # en un nuevo diccionario que es la evaluación de la expresion worker[\"age\"] > 70\n",
    "    # El pipe (|) (Python 3.9 en adelante) lo que hace es unir un diccionario con otro nuevo \n",
    "    for worker in old_people:\n",
    "        print(worker)\n",
    "\n",
    "if __name__ == '__main__':\n",
    "    run()"
   ]
  },
  {
   "cell_type": "markdown",
   "metadata": {},
   "source": [
    "**Reto**:\n",
    "* Crear las listas all_python_devs y all_Platzi_worker usando combinación de filter y map.\n",
    "* Crear la lista old_people y adults con list comprehensions"
   ]
  },
  {
   "cell_type": "code",
   "execution_count": 24,
   "metadata": {},
   "outputs": [
    {
     "name": "stdout",
     "output_type": "stream",
     "text": [
      "## Printing all_python_devs ##\n",
      "Facundo\n",
      "Karo\n",
      "Pablo\n",
      "Lorena\n",
      "## Printing all_Platzi_worker ##\n",
      "Facundo\n",
      "Héctor\n",
      "Gabriel\n",
      "Isabella\n",
      "## Printing adults ##\n",
      "Facundo\n",
      "Luisana\n",
      "Héctor\n",
      "Gabriel\n",
      "Isabella\n",
      "Karo\n",
      "Ariel\n",
      "Pablo\n",
      "Lorena\n",
      "## Printing old_people ##\n",
      "[{'name': 'Facundo', 'age': 72, 'organization': 'Platzi', 'position': 'Technical Coach', 'language': 'python', 'old': True}, {'name': 'Luisana', 'age': 33, 'organization': 'Globant', 'position': 'UX Designer', 'language': 'javascript', 'old': False}, {'name': 'Héctor', 'age': 19, 'organization': 'Platzi', 'position': 'Associate', 'language': 'ruby', 'old': False}, {'name': 'Gabriel', 'age': 20, 'organization': 'Platzi', 'position': 'Associate', 'language': 'javascript', 'old': False}, {'name': 'Isabella', 'age': 30, 'organization': 'Platzi', 'position': 'QA Manager', 'language': 'java', 'old': False}, {'name': 'Karo', 'age': 23, 'organization': 'Everis', 'position': 'Backend Developer', 'language': 'python', 'old': False}, {'name': 'Ariel', 'age': 32, 'organization': 'Rappi', 'position': 'Support', 'language': '', 'old': False}, {'name': 'Juan', 'age': 17, 'organization': '', 'position': 'Student', 'language': 'go', 'old': False}, {'name': 'Pablo', 'age': 32, 'organization': 'Master', 'position': 'Human Resources Manager', 'language': 'python', 'old': False}, {'name': 'Lorena', 'age': 56, 'organization': 'Python Organization', 'position': 'Language Maker', 'language': 'python', 'old': False}]\n"
     ]
    }
   ],
   "source": [
    "def run():\n",
    "    # all_python_devs\n",
    "    all_python_devs_filter = list(filter(lambda worker: worker[\"language\"] == \"python\",DATA))\n",
    "    all_python_devs = list(map(lambda worker: worker[\"name\"],all_python_devs_filter))\n",
    "    print(\"## Printing all_python_devs ##\")\n",
    "    for worker in all_python_devs:\n",
    "        print(worker)\n",
    "    \n",
    "    # all_Platzi_worker\n",
    "    all_Platzi_worker_filter = list(filter(lambda worker: worker[\"organization\"] == \"Platzi\", DATA))\n",
    "    all_Platzi_worker = list(map(lambda worker: worker[\"name\"],all_Platzi_worker_filter))\n",
    "    print(\"## Printing all_Platzi_worker ##\")\n",
    "    for worker in all_Platzi_worker:\n",
    "        print(worker)\n",
    "\n",
    "    # adults\n",
    "    adults = [worker[\"name\"] for worker in DATA if worker[\"age\"] > 18]\n",
    "    print(\"## Printing adults ##\")\n",
    "    for worker in adults:\n",
    "        print(worker)\n",
    "    \n",
    "    # old_peope\n",
    "    old_people = [worker | {\"old\" : worker[\"age\"] > 70} for worker in DATA]\n",
    "    print(\"## Printing old_people dict ##\")\n",
    "    print(old_people)\n",
    "if __name__ == '__main__':\n",
    "    run()"
   ]
  },
  {
   "cell_type": "markdown",
   "metadata": {},
   "source": [
    "## Los errores en el código\n",
    "*Lectura recomendada* 📚📖(**aquí**)(https://docs.python.org/3/tutorial/errors.html)\n",
    "\n",
    "Los errores son comunes al momento de programar, sin embargo, hay que estar preparados para recibir los errores que tengamos en nuestro código.\n",
    "\n",
    "El manejo de errores es muy importante y los mejores trucos como ya lo dijo Facundo son:\n",
    "\n",
    "1. Leer el error (Conozco programadores y hasta yo en un inicio trataba de revisar el código sin revisar el traceback)\n",
    "2. Leer el traceback de abajo hacia arriba\n",
    "Dejo un artículo aquí para complementar e intentar satisfacer su apetito feroz por entender y aprender Python [**aquí**](https://realpython.com/python-exceptions/)\n",
    "\n",
    "Cuando python nos avisa que tenemos un error en el código nos avienta un mensaje que conocemos como traceback, puesde ser debido a:\n",
    "\n",
    "* **Errores de Sintaxis (SyntaxError)** → escribimos mal alguna palabra clave (typo), el programa no se ejecuta.\n",
    "* **Excepciones (Exeption)** → Producen un colapso o interrupción de la lógica del programa en alguna línea en específico por ejemplo (todas las líneas anteriores se ejecutan), pueden ser de varios tipos, generalmente aparecen cuando no existe un componente clave en la ejecución o hay alguna imposibilidad lógica (matemática) para efectuar la instrucción, tambipen pueden generarse dentro del código o fuera de el (elevar una excepción)\n",
    "\n",
    "### Lectura de un traceback\n",
    "\n",
    "* La manera correcta de leer un traceback es iniciar por el final, en el caso de un error de sintaxis nos indicará en qué línea se encuentra dicho error.\n",
    "* En el caso de excepciones la última línea nos indicará el tipo de exepcion que se generó (generalmente son autoexplicativas pero si no entienedes que paso puedes buscar este error)\n",
    "* La penúltima línea nos indicará dende se encuentra el error (archivo y línea)\n",
    "* La antepenúltima línea nos muestra “most recent call last” lo que significa que la llamada más reciente es la última (el programa se cerró después de esa llamada, se genero un error)\n",
    "\n",
    "### Elevar una excepción\n",
    "\n",
    "* Cuando tenemos una excepción en python lo que sucede es que se crea un objeto de tipo exception que se va moviendo a través de los bloques de código hasta llegar al bloque principal si es que no se maneja dicha excepción en algún bloque intermedio el programa se interrumpe y genera el traceback"
   ]
  },
  {
   "cell_type": "markdown",
   "metadata": {},
   "source": [
    "## Debugging\n",
    "\n",
    "Debugging o depuración es una herramienta que traen varios editores de código con el objetivo de solucionar nuestros errores de lógica. Revisemos la herramienta debugging de VSCode\n",
    "\n",
    "En este entorno podemos acceder a funcionalidades como:\n",
    "* pause → permite pausar la ejecución del programa\n",
    "* step over → permite avanazr un solo paso en el programa\n",
    "* step in → igresamos a un bloque secundario del programa (funciones)\n",
    "* step out → salimos del bloque secundario\n",
    "* restart → reinicia el programa\n",
    "* stop → detiene el programa\n",
    "Además podemos generar breakpoints, que son puntos en los que el programa se detendrá para ayudarnos a depurar el código\n",
    "\n",
    "**Nota**:\n",
    "Existen herramientas de debugging propias de python como el módulo pdb o los breakpoints (a partir de python 3.7)"
   ]
  },
  {
   "cell_type": "markdown",
   "metadata": {},
   "source": [
    "## Manejo de excepciones\n",
    "*Lectura recomendada* 🎠[**aquí**](https://docs.python.org/3/tutorial/errors.html#exceptions)\n",
    "\n",
    "**try**: Intentar\n",
    "\n",
    "**except**: En caso de que suceda una excepción de cierto tipo de error haga esto"
   ]
  },
  {
   "cell_type": "code",
   "execution_count": 2,
   "metadata": {},
   "outputs": [
    {
     "name": "stdout",
     "output_type": "stream",
     "text": [
      "Solo se pueden ingresar strings\n"
     ]
    }
   ],
   "source": [
    "def palindrome(string):\n",
    "    return string == string[::-1]\n",
    "\n",
    "try:\n",
    "    print(palindrome(1))\n",
    "except TypeError:\n",
    "    print(\"Solo se pueden ingresar strings\")"
   ]
  },
  {
   "cell_type": "markdown",
   "metadata": {},
   "source": [
    "**raise**: Elevar un tipo de error\n",
    "En este caso ingresamos una cadena vacia, el programa funciona correctamente pero logicamente sabemos que no podemos permitir al usuario enviar cosas vacias. Estas son cosas que python resuelve de manera correcta en su interpretación pero segun los fines que tenemos para el programa, no es correcto."
   ]
  },
  {
   "cell_type": "code",
   "execution_count": 4,
   "metadata": {},
   "outputs": [
    {
     "name": "stdout",
     "output_type": "stream",
     "text": [
      "No se puede ingresar una cadena vacía\n",
      "False\n"
     ]
    }
   ],
   "source": [
    "def palindrome(string):\n",
    "    try:\n",
    "        #Preguntamos por la longitud del string\n",
    "        if len(string) == 0:\n",
    "            # Elevamos un error de tipo ValueError\n",
    "            raise ValueError(\"No se puede ingresar una cadena vacía\")\n",
    "        # En caso que no sea vacio, retorna el valor normal de la función\n",
    "        return string == string[::-1]\n",
    "    except ValueError as ve:\n",
    "        print(ve)\n",
    "        return False\n",
    "    \n",
    "\n",
    "try:\n",
    "    print(palindrome(\"\"))\n",
    "except TypeError:\n",
    "    print(\"Solo se pueden ingresar strings\")"
   ]
  },
  {
   "cell_type": "markdown",
   "metadata": {},
   "source": [
    "**finally**: Se usa al final de una estructura try, except para poder cerrar un archivo, conexión a base de datos o liberar recursos externos\n",
    "\n",
    "**Reto**: Utilizar las palabras clave try, except y raise para elevar un error si el usuario ingresa un número negatido en nuestro programa de divisores-"
   ]
  },
  {
   "cell_type": "code",
   "execution_count": 25,
   "metadata": {},
   "outputs": [
    {
     "name": "stdout",
     "output_type": "stream",
     "text": [
      "Ingresa solo números positivos\n",
      "-2 No es nu numero positivo\n",
      "Terminó mi programa\n"
     ]
    }
   ],
   "source": [
    "def divisors(num):\n",
    "    try:\n",
    "        if num < 0:\n",
    "            raise ValueError('Ingresa solo números positivos')\n",
    "        else:\n",
    "            divisors = [i for i in range(1, num + 1) if num % i == 0]\n",
    "            return divisors\n",
    "    except ValueError as value_error:\n",
    "        print(value_error)\n",
    "        return str(num) + \" No es nu numero positivo\"\n",
    "\n",
    "\n",
    "def run():\n",
    "    try:\n",
    "        num = int(input(\"Ingresa un número: \"))\n",
    "        print(divisors(num))\n",
    "        print(\"Terminó mi programa\")\n",
    "    except ValueError:\n",
    "        print(\"Debes ingresar un número\")\n",
    "\n",
    "\n",
    "if __name__ == \"__main__\":\n",
    "    run()"
   ]
  },
  {
   "cell_type": "markdown",
   "metadata": {},
   "source": [
    "## Asser Statements\n",
    "\n",
    "Afirmaciones dentro de Python. Son expresiones que combinan variables con operadores\n",
    "\n",
    "```\n",
    "assert condición, mensaje de error\n",
    "```\n",
    "\n",
    "Esto se lee como *afirmo que esta condición es verdadera, sino devuelvo este mensaje de error*"
   ]
  },
  {
   "cell_type": "code",
   "execution_count": 26,
   "metadata": {},
   "outputs": [
    {
     "name": "stdout",
     "output_type": "stream",
     "text": [
      "True\n"
     ]
    }
   ],
   "source": [
    "def palindrome(string):\n",
    "    return string == string[::-1]\n",
    "\n",
    "print(palindrome(\"\"))"
   ]
  },
  {
   "cell_type": "markdown",
   "metadata": {},
   "source": [
    "El código anterior sabemos que esta erroneo y ya hemos visto como controlarlo con *try,except*, sin embargo vamos a ver como controlarlo con el assert statements"
   ]
  },
  {
   "cell_type": "code",
   "execution_count": 30,
   "metadata": {},
   "outputs": [
    {
     "ename": "AssertionError",
     "evalue": "No se puede ingresar una cadena vacia",
     "output_type": "error",
     "traceback": [
      "\u001b[1;31m---------------------------------------------------------------------------\u001b[0m",
      "\u001b[1;31mAssertionError\u001b[0m                            Traceback (most recent call last)",
      "\u001b[1;32mC:\\Users\\JUAN~1.SAN\\AppData\\Local\\Temp/ipykernel_4460/826131259.py\u001b[0m in \u001b[0;36m<module>\u001b[1;34m\u001b[0m\n\u001b[0;32m      3\u001b[0m     \u001b[1;32mreturn\u001b[0m \u001b[0mstring\u001b[0m \u001b[1;33m==\u001b[0m \u001b[0mstring\u001b[0m\u001b[1;33m[\u001b[0m\u001b[1;33m:\u001b[0m\u001b[1;33m:\u001b[0m\u001b[1;33m-\u001b[0m\u001b[1;36m1\u001b[0m\u001b[1;33m]\u001b[0m\u001b[1;33m\u001b[0m\u001b[1;33m\u001b[0m\u001b[0m\n\u001b[0;32m      4\u001b[0m \u001b[1;33m\u001b[0m\u001b[0m\n\u001b[1;32m----> 5\u001b[1;33m \u001b[0mprint\u001b[0m\u001b[1;33m(\u001b[0m\u001b[0mpalindrome\u001b[0m\u001b[1;33m(\u001b[0m\u001b[1;34m\"\"\u001b[0m\u001b[1;33m)\u001b[0m\u001b[1;33m)\u001b[0m\u001b[1;33m\u001b[0m\u001b[1;33m\u001b[0m\u001b[0m\n\u001b[0m",
      "\u001b[1;32mC:\\Users\\JUAN~1.SAN\\AppData\\Local\\Temp/ipykernel_4460/826131259.py\u001b[0m in \u001b[0;36mpalindrome\u001b[1;34m(string)\u001b[0m\n\u001b[0;32m      1\u001b[0m \u001b[1;32mdef\u001b[0m \u001b[0mpalindrome\u001b[0m\u001b[1;33m(\u001b[0m\u001b[0mstring\u001b[0m\u001b[1;33m)\u001b[0m\u001b[1;33m:\u001b[0m\u001b[1;33m\u001b[0m\u001b[1;33m\u001b[0m\u001b[0m\n\u001b[1;32m----> 2\u001b[1;33m     \u001b[1;32massert\u001b[0m \u001b[0mlen\u001b[0m\u001b[1;33m(\u001b[0m\u001b[0mstring\u001b[0m\u001b[1;33m)\u001b[0m \u001b[1;33m>\u001b[0m \u001b[1;36m0\u001b[0m\u001b[1;33m,\u001b[0m \u001b[1;34m\"No se puede ingresar una cadena vacia\"\u001b[0m\u001b[1;33m\u001b[0m\u001b[1;33m\u001b[0m\u001b[0m\n\u001b[0m\u001b[0;32m      3\u001b[0m     \u001b[1;32mreturn\u001b[0m \u001b[0mstring\u001b[0m \u001b[1;33m==\u001b[0m \u001b[0mstring\u001b[0m\u001b[1;33m[\u001b[0m\u001b[1;33m:\u001b[0m\u001b[1;33m:\u001b[0m\u001b[1;33m-\u001b[0m\u001b[1;36m1\u001b[0m\u001b[1;33m]\u001b[0m\u001b[1;33m\u001b[0m\u001b[1;33m\u001b[0m\u001b[0m\n\u001b[0;32m      4\u001b[0m \u001b[1;33m\u001b[0m\u001b[0m\n\u001b[0;32m      5\u001b[0m \u001b[0mprint\u001b[0m\u001b[1;33m(\u001b[0m\u001b[0mpalindrome\u001b[0m\u001b[1;33m(\u001b[0m\u001b[1;34m\"\"\u001b[0m\u001b[1;33m)\u001b[0m\u001b[1;33m)\u001b[0m\u001b[1;33m\u001b[0m\u001b[1;33m\u001b[0m\u001b[0m\n",
      "\u001b[1;31mAssertionError\u001b[0m: No se puede ingresar una cadena vacia"
     ]
    }
   ],
   "source": [
    "def palindrome(string):\n",
    "    assert len(string) > 0, \"No se puede ingresar una cadena vacia\"\n",
    "    return string == string[::-1]\n",
    "\n",
    "print(palindrome(\"\"))"
   ]
  },
  {
   "cell_type": "code",
   "execution_count": 33,
   "metadata": {},
   "outputs": [
    {
     "ename": "AssertionError",
     "evalue": "Debes ingresar un número",
     "output_type": "error",
     "traceback": [
      "\u001b[1;31m---------------------------------------------------------------------------\u001b[0m",
      "\u001b[1;31mAssertionError\u001b[0m                            Traceback (most recent call last)",
      "\u001b[1;32mC:\\Users\\JUAN~1.SAN\\AppData\\Local\\Temp/ipykernel_4460/2927307504.py\u001b[0m in \u001b[0;36m<module>\u001b[1;34m\u001b[0m\n\u001b[0;32m     10\u001b[0m \u001b[1;33m\u001b[0m\u001b[0m\n\u001b[0;32m     11\u001b[0m \u001b[1;32mif\u001b[0m \u001b[0m__name__\u001b[0m \u001b[1;33m==\u001b[0m \u001b[1;34m\"__main__\"\u001b[0m\u001b[1;33m:\u001b[0m\u001b[1;33m\u001b[0m\u001b[1;33m\u001b[0m\u001b[0m\n\u001b[1;32m---> 12\u001b[1;33m     \u001b[0mrun\u001b[0m\u001b[1;33m(\u001b[0m\u001b[1;33m)\u001b[0m\u001b[1;33m\u001b[0m\u001b[1;33m\u001b[0m\u001b[0m\n\u001b[0m",
      "\u001b[1;32mC:\\Users\\JUAN~1.SAN\\AppData\\Local\\Temp/ipykernel_4460/2927307504.py\u001b[0m in \u001b[0;36mrun\u001b[1;34m()\u001b[0m\n\u001b[0;32m      5\u001b[0m \u001b[1;32mdef\u001b[0m \u001b[0mrun\u001b[0m\u001b[1;33m(\u001b[0m\u001b[1;33m)\u001b[0m\u001b[1;33m:\u001b[0m\u001b[1;33m\u001b[0m\u001b[1;33m\u001b[0m\u001b[0m\n\u001b[0;32m      6\u001b[0m     \u001b[0mnum\u001b[0m \u001b[1;33m=\u001b[0m \u001b[0minput\u001b[0m\u001b[1;33m(\u001b[0m\u001b[1;34m\"Ingresa un número: \"\u001b[0m\u001b[1;33m)\u001b[0m\u001b[1;33m\u001b[0m\u001b[1;33m\u001b[0m\u001b[0m\n\u001b[1;32m----> 7\u001b[1;33m     \u001b[1;32massert\u001b[0m \u001b[0mnum\u001b[0m\u001b[1;33m.\u001b[0m\u001b[0misnumeric\u001b[0m\u001b[1;33m(\u001b[0m\u001b[1;33m)\u001b[0m\u001b[1;33m,\u001b[0m \u001b[1;34m\"Debes ingresar un número\"\u001b[0m\u001b[1;33m\u001b[0m\u001b[1;33m\u001b[0m\u001b[0m\n\u001b[0m\u001b[0;32m      8\u001b[0m     \u001b[0mprint\u001b[0m\u001b[1;33m(\u001b[0m\u001b[0mdivisors\u001b[0m\u001b[1;33m(\u001b[0m\u001b[0mint\u001b[0m\u001b[1;33m(\u001b[0m\u001b[0mnum\u001b[0m\u001b[1;33m)\u001b[0m\u001b[1;33m)\u001b[0m\u001b[1;33m)\u001b[0m\u001b[1;33m\u001b[0m\u001b[1;33m\u001b[0m\u001b[0m\n\u001b[0;32m      9\u001b[0m     \u001b[0mprint\u001b[0m\u001b[1;33m(\u001b[0m\u001b[1;34m\"Terminó mi programa\"\u001b[0m\u001b[1;33m)\u001b[0m\u001b[1;33m\u001b[0m\u001b[1;33m\u001b[0m\u001b[0m\n",
      "\u001b[1;31mAssertionError\u001b[0m: Debes ingresar un número"
     ]
    }
   ],
   "source": [
    "def divisors(num):\n",
    "    divisors = [i for i in range(1, num + 1) if num % i == 0]\n",
    "    return divisors\n",
    "\n",
    "def run():\n",
    "    num = input(\"Ingresa un número: \")\n",
    "    assert num.isnumeric(), \"Debes ingresar un número\"\n",
    "    print(divisors(int(num)))\n",
    "    print(\"Terminó mi programa\")\n",
    "\n",
    "if __name__ == \"__main__\":\n",
    "    run()"
   ]
  },
  {
   "cell_type": "markdown",
   "metadata": {},
   "source": [
    "**Reto**: Utiliza assert statements para evitar que el usuario ingrese un número negativo en nuestro programa de divisores"
   ]
  },
  {
   "cell_type": "code",
   "execution_count": 42,
   "metadata": {},
   "outputs": [
    {
     "ename": "AssertionError",
     "evalue": "Debes ingresar solo números",
     "output_type": "error",
     "traceback": [
      "\u001b[1;31m---------------------------------------------------------------------------\u001b[0m",
      "\u001b[1;31mAssertionError\u001b[0m                            Traceback (most recent call last)",
      "\u001b[1;32mC:\\Users\\JUAN~1.SAN\\AppData\\Local\\Temp/ipykernel_4460/648410134.py\u001b[0m in \u001b[0;36m<module>\u001b[1;34m\u001b[0m\n\u001b[0;32m     16\u001b[0m \u001b[1;33m\u001b[0m\u001b[0m\n\u001b[0;32m     17\u001b[0m \u001b[1;32mif\u001b[0m \u001b[0m__name__\u001b[0m \u001b[1;33m==\u001b[0m \u001b[1;34m\"__main__\"\u001b[0m\u001b[1;33m:\u001b[0m\u001b[1;33m\u001b[0m\u001b[1;33m\u001b[0m\u001b[0m\n\u001b[1;32m---> 18\u001b[1;33m     \u001b[0mrun\u001b[0m\u001b[1;33m(\u001b[0m\u001b[1;33m)\u001b[0m\u001b[1;33m\u001b[0m\u001b[1;33m\u001b[0m\u001b[0m\n\u001b[0m",
      "\u001b[1;32mC:\\Users\\JUAN~1.SAN\\AppData\\Local\\Temp/ipykernel_4460/648410134.py\u001b[0m in \u001b[0;36mrun\u001b[1;34m()\u001b[0m\n\u001b[0;32m      7\u001b[0m     \u001b[1;32mtry\u001b[0m\u001b[1;33m:\u001b[0m\u001b[1;33m\u001b[0m\u001b[1;33m\u001b[0m\u001b[0m\n\u001b[0;32m      8\u001b[0m         \u001b[0mnum\u001b[0m \u001b[1;33m=\u001b[0m \u001b[0minput\u001b[0m\u001b[1;33m(\u001b[0m\u001b[1;34m\"Ingresa un número: \"\u001b[0m\u001b[1;33m)\u001b[0m\u001b[1;33m\u001b[0m\u001b[1;33m\u001b[0m\u001b[0m\n\u001b[1;32m----> 9\u001b[1;33m         \u001b[1;32massert\u001b[0m \u001b[0mnum\u001b[0m\u001b[1;33m.\u001b[0m\u001b[0misnumeric\u001b[0m\u001b[1;33m(\u001b[0m\u001b[1;33m)\u001b[0m\u001b[1;33m,\u001b[0m \u001b[1;34m\"Debes ingresar solo números\"\u001b[0m\u001b[1;33m\u001b[0m\u001b[1;33m\u001b[0m\u001b[0m\n\u001b[0m\u001b[0;32m     10\u001b[0m         \u001b[1;32massert\u001b[0m \u001b[0mint\u001b[0m\u001b[1;33m(\u001b[0m\u001b[0mnum\u001b[0m\u001b[1;33m)\u001b[0m \u001b[1;33m>\u001b[0m \u001b[1;36m0\u001b[0m\u001b[1;33m,\u001b[0m \u001b[1;34m\"Debes ingresar solo números positivos mayores a cero\"\u001b[0m\u001b[1;33m\u001b[0m\u001b[1;33m\u001b[0m\u001b[0m\n\u001b[0;32m     11\u001b[0m         \u001b[0mprint\u001b[0m\u001b[1;33m(\u001b[0m\u001b[0mdivisors\u001b[0m\u001b[1;33m(\u001b[0m\u001b[0mint\u001b[0m\u001b[1;33m(\u001b[0m\u001b[0mnum\u001b[0m\u001b[1;33m)\u001b[0m\u001b[1;33m)\u001b[0m\u001b[1;33m)\u001b[0m\u001b[1;33m\u001b[0m\u001b[1;33m\u001b[0m\u001b[0m\n",
      "\u001b[1;31mAssertionError\u001b[0m: Debes ingresar solo números"
     ]
    }
   ],
   "source": [
    "def divisors(num):\n",
    "    divisors = [i for i in range(1, num + 1) if num % i == 0]\n",
    "    return divisors\n",
    "\n",
    "\n",
    "def run():\n",
    "    try:\n",
    "        num = input(\"Ingresa un número: \")\n",
    "        assert num.isnumeric(), \"Debes ingresar solo números positivos\"\n",
    "        assert int(num) > 0, \"Debes ingresar solo números positivos mayores a cero\"\n",
    "        print(divisors(int(num)))\n",
    "        print(\"Terminó mi programa\")\n",
    "    except ValueError:\n",
    "        print(\"Debes ingresar un número\")\n",
    "\n",
    "\n",
    "if __name__ == \"__main__\":\n",
    "    run()"
   ]
  }
 ],
 "metadata": {
  "interpreter": {
   "hash": "eaa3212344781f5fac54ccdf1d42044dc63c8aa37317015039c9cf3d651f265c"
  },
  "kernelspec": {
   "display_name": "Python 3.10.1 64-bit",
   "language": "python",
   "name": "python3"
  },
  "language_info": {
   "codemirror_mode": {
    "name": "ipython",
    "version": 3
   },
   "file_extension": ".py",
   "mimetype": "text/x-python",
   "name": "python",
   "nbconvert_exporter": "python",
   "pygments_lexer": "ipython3",
   "version": "3.10.1"
  },
  "orig_nbformat": 4
 },
 "nbformat": 4,
 "nbformat_minor": 2
}
